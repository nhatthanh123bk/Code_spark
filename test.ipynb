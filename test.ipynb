{
 "cells": [
  {
   "cell_type": "code",
   "execution_count": 22,
   "metadata": {},
   "outputs": [],
   "source": [
    "from pyspark.sql import SparkSession\n",
    "from pyspark.sql.types import IntegerType,FloatType,StringType\n",
    "from pyspark.sql.types import StructType,StructField\n",
    "from pyspark.sql.functions import udf\n"
   ]
  },
  {
   "cell_type": "code",
   "execution_count": null,
   "metadata": {},
   "outputs": [],
   "source": [
    "spark = SparkSession.builder\\\n",
    "        .appName(\"titanic\")\\\n",
    "        .config(\"hive.metastore.uris\",\"thrift://vnlab-master2.com:9083\")\\\n",
    "        .enableHiveSupport()\\\n",
    "        .getOrCreate()\n",
    "\n",
    "spark.sql(\"SHOW DATABASES\").show()\n",
    "spark.sql(\"USE titanic_db\")\n",
    "spark.sql(\"SHOW TABLES\").show()\n",
    "data_df = spark.sql(\"SELECT * FROM titanic\")"
   ]
  },
  {
   "cell_type": "code",
   "execution_count": 27,
   "metadata": {},
   "outputs": [],
   "source": [
    "# Processing Data column Name\n",
    "def find(x):\n",
    "    if 'Mlle.' in x.split(\" \"):\n",
    "        return 'Miss'\n",
    "    if 'Ms.' in x.split(\" \"):  \n",
    "        return 'Miss' \n",
    "    if 'Mme.' in x.split(\" \"):\n",
    "        return 'Miss'\n",
    "    if 'Miss.' in x.split(\" \"):\n",
    "        return \"Miss\"\n",
    "    if 'Major.' in x.split(\" \"):\n",
    "        return 'Mr'\n",
    "    if 'Col.' in x.split(\" \"):\n",
    "        return 'Mr'\n",
    "    if 'Sir.' in x.split(\" \"):\n",
    "        return 'Mr'\n",
    "    if 'Don.' in x.split(\" \"):\n",
    "        return 'Mr'\n",
    "    if 'Jonkheer.' in x.split(\" \"):\n",
    "        return 'Mr'\n",
    "    if 'Capt.' in x.split(\" \"): \n",
    "        return 'Mr'\n",
    "    if ('Mr.' in x.split(\" \")):    \n",
    "        return 'Mr'\n",
    "    if 'Lady.' in x.split(\" \"):\n",
    "        return 'Mrs'\n",
    "    if 'Countess.' in x.split(\" \"):\n",
    "        return 'Mrs'\n",
    "    if 'Done.' in x.split(\" \"):\n",
    "        return 'Mrs'\n",
    "    if ('Mrs.' in x.split(\" \")):\n",
    "        return 'Mrs'\n",
    "find_udf_int = udf(lambda z: find(z),StringType())\n",
    "\n",
    "data_df = data_.select(\n",
    "    'ID',\n",
    "    'Name',\n",
    "    find_udf_int('Name').alias('title')    \n",
    ")"
   ]
  }
 ],
 "metadata": {
  "kernelspec": {
   "display_name": "IPython (Python 3)",
   "language": "python",
   "name": "python3"
  },
  "language_info": {
   "codemirror_mode": {
    "name": "ipython",
    "version": 3
   },
   "file_extension": ".py",
   "mimetype": "text/x-python",
   "name": "python",
   "nbconvert_exporter": "python",
   "pygments_lexer": "ipython3",
   "version": "3.6.8"
  }
 },
 "nbformat": 4,
 "nbformat_minor": 2
}
